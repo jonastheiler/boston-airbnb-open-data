{
 "cells": [
  {
   "cell_type": "markdown",
   "id": "e32f849a",
   "metadata": {},
   "source": [
    "### Data Loading"
   ]
  },
  {
   "cell_type": "code",
   "execution_count": 1,
   "id": "e1aafedd",
   "metadata": {},
   "outputs": [
    {
     "data": {
      "text/html": [
       "<div>\n",
       "<style scoped>\n",
       "    .dataframe tbody tr th:only-of-type {\n",
       "        vertical-align: middle;\n",
       "    }\n",
       "\n",
       "    .dataframe tbody tr th {\n",
       "        vertical-align: top;\n",
       "    }\n",
       "\n",
       "    .dataframe thead th {\n",
       "        text-align: right;\n",
       "    }\n",
       "</style>\n",
       "<table border=\"1\" class=\"dataframe\">\n",
       "  <thead>\n",
       "    <tr style=\"text-align: right;\">\n",
       "      <th></th>\n",
       "      <th>id</th>\n",
       "      <th>listing_url</th>\n",
       "      <th>scrape_id</th>\n",
       "      <th>last_scraped</th>\n",
       "      <th>name</th>\n",
       "      <th>summary</th>\n",
       "      <th>space</th>\n",
       "      <th>description</th>\n",
       "      <th>experiences_offered</th>\n",
       "      <th>neighborhood_overview</th>\n",
       "      <th>...</th>\n",
       "      <th>review_scores_value</th>\n",
       "      <th>requires_license</th>\n",
       "      <th>license</th>\n",
       "      <th>jurisdiction_names</th>\n",
       "      <th>instant_bookable</th>\n",
       "      <th>cancellation_policy</th>\n",
       "      <th>require_guest_profile_picture</th>\n",
       "      <th>require_guest_phone_verification</th>\n",
       "      <th>calculated_host_listings_count</th>\n",
       "      <th>reviews_per_month</th>\n",
       "    </tr>\n",
       "  </thead>\n",
       "  <tbody>\n",
       "    <tr>\n",
       "      <th>0</th>\n",
       "      <td>12147973</td>\n",
       "      <td>https://www.airbnb.com/rooms/12147973</td>\n",
       "      <td>20160906204935</td>\n",
       "      <td>2016-09-07</td>\n",
       "      <td>Sunny Bungalow in the City</td>\n",
       "      <td>Cozy, sunny, family home.  Master bedroom high...</td>\n",
       "      <td>The house has an open and cozy feel at the sam...</td>\n",
       "      <td>Cozy, sunny, family home.  Master bedroom high...</td>\n",
       "      <td>none</td>\n",
       "      <td>Roslindale is quiet, convenient and friendly. ...</td>\n",
       "      <td>...</td>\n",
       "      <td>NaN</td>\n",
       "      <td>f</td>\n",
       "      <td>NaN</td>\n",
       "      <td>NaN</td>\n",
       "      <td>f</td>\n",
       "      <td>moderate</td>\n",
       "      <td>f</td>\n",
       "      <td>f</td>\n",
       "      <td>1</td>\n",
       "      <td>NaN</td>\n",
       "    </tr>\n",
       "    <tr>\n",
       "      <th>1</th>\n",
       "      <td>3075044</td>\n",
       "      <td>https://www.airbnb.com/rooms/3075044</td>\n",
       "      <td>20160906204935</td>\n",
       "      <td>2016-09-07</td>\n",
       "      <td>Charming room in pet friendly apt</td>\n",
       "      <td>Charming and quiet room in a second floor 1910...</td>\n",
       "      <td>Small but cozy and quite room with a full size...</td>\n",
       "      <td>Charming and quiet room in a second floor 1910...</td>\n",
       "      <td>none</td>\n",
       "      <td>The room is in Roslindale, a diverse and prima...</td>\n",
       "      <td>...</td>\n",
       "      <td>9.0</td>\n",
       "      <td>f</td>\n",
       "      <td>NaN</td>\n",
       "      <td>NaN</td>\n",
       "      <td>t</td>\n",
       "      <td>moderate</td>\n",
       "      <td>f</td>\n",
       "      <td>f</td>\n",
       "      <td>1</td>\n",
       "      <td>1.30</td>\n",
       "    </tr>\n",
       "    <tr>\n",
       "      <th>2</th>\n",
       "      <td>6976</td>\n",
       "      <td>https://www.airbnb.com/rooms/6976</td>\n",
       "      <td>20160906204935</td>\n",
       "      <td>2016-09-07</td>\n",
       "      <td>Mexican Folk Art Haven in Boston</td>\n",
       "      <td>Come stay with a friendly, middle-aged guy in ...</td>\n",
       "      <td>Come stay with a friendly, middle-aged guy in ...</td>\n",
       "      <td>Come stay with a friendly, middle-aged guy in ...</td>\n",
       "      <td>none</td>\n",
       "      <td>The LOCATION: Roslindale is a safe and diverse...</td>\n",
       "      <td>...</td>\n",
       "      <td>10.0</td>\n",
       "      <td>f</td>\n",
       "      <td>NaN</td>\n",
       "      <td>NaN</td>\n",
       "      <td>f</td>\n",
       "      <td>moderate</td>\n",
       "      <td>t</td>\n",
       "      <td>f</td>\n",
       "      <td>1</td>\n",
       "      <td>0.47</td>\n",
       "    </tr>\n",
       "    <tr>\n",
       "      <th>3</th>\n",
       "      <td>1436513</td>\n",
       "      <td>https://www.airbnb.com/rooms/1436513</td>\n",
       "      <td>20160906204935</td>\n",
       "      <td>2016-09-07</td>\n",
       "      <td>Spacious Sunny Bedroom Suite in Historic Home</td>\n",
       "      <td>Come experience the comforts of home away from...</td>\n",
       "      <td>Most places you find in Boston are small howev...</td>\n",
       "      <td>Come experience the comforts of home away from...</td>\n",
       "      <td>none</td>\n",
       "      <td>Roslindale is a lovely little neighborhood loc...</td>\n",
       "      <td>...</td>\n",
       "      <td>10.0</td>\n",
       "      <td>f</td>\n",
       "      <td>NaN</td>\n",
       "      <td>NaN</td>\n",
       "      <td>f</td>\n",
       "      <td>moderate</td>\n",
       "      <td>f</td>\n",
       "      <td>f</td>\n",
       "      <td>1</td>\n",
       "      <td>1.00</td>\n",
       "    </tr>\n",
       "    <tr>\n",
       "      <th>4</th>\n",
       "      <td>7651065</td>\n",
       "      <td>https://www.airbnb.com/rooms/7651065</td>\n",
       "      <td>20160906204935</td>\n",
       "      <td>2016-09-07</td>\n",
       "      <td>Come Home to Boston</td>\n",
       "      <td>My comfy, clean and relaxing home is one block...</td>\n",
       "      <td>Clean, attractive, private room, one block fro...</td>\n",
       "      <td>My comfy, clean and relaxing home is one block...</td>\n",
       "      <td>none</td>\n",
       "      <td>I love the proximity to downtown, the neighbor...</td>\n",
       "      <td>...</td>\n",
       "      <td>10.0</td>\n",
       "      <td>f</td>\n",
       "      <td>NaN</td>\n",
       "      <td>NaN</td>\n",
       "      <td>f</td>\n",
       "      <td>flexible</td>\n",
       "      <td>f</td>\n",
       "      <td>f</td>\n",
       "      <td>1</td>\n",
       "      <td>2.25</td>\n",
       "    </tr>\n",
       "  </tbody>\n",
       "</table>\n",
       "<p>5 rows × 95 columns</p>\n",
       "</div>"
      ],
      "text/plain": [
       "         id                            listing_url       scrape_id  \\\n",
       "0  12147973  https://www.airbnb.com/rooms/12147973  20160906204935   \n",
       "1   3075044   https://www.airbnb.com/rooms/3075044  20160906204935   \n",
       "2      6976      https://www.airbnb.com/rooms/6976  20160906204935   \n",
       "3   1436513   https://www.airbnb.com/rooms/1436513  20160906204935   \n",
       "4   7651065   https://www.airbnb.com/rooms/7651065  20160906204935   \n",
       "\n",
       "  last_scraped                                           name  \\\n",
       "0   2016-09-07                     Sunny Bungalow in the City   \n",
       "1   2016-09-07              Charming room in pet friendly apt   \n",
       "2   2016-09-07               Mexican Folk Art Haven in Boston   \n",
       "3   2016-09-07  Spacious Sunny Bedroom Suite in Historic Home   \n",
       "4   2016-09-07                            Come Home to Boston   \n",
       "\n",
       "                                             summary  \\\n",
       "0  Cozy, sunny, family home.  Master bedroom high...   \n",
       "1  Charming and quiet room in a second floor 1910...   \n",
       "2  Come stay with a friendly, middle-aged guy in ...   \n",
       "3  Come experience the comforts of home away from...   \n",
       "4  My comfy, clean and relaxing home is one block...   \n",
       "\n",
       "                                               space  \\\n",
       "0  The house has an open and cozy feel at the sam...   \n",
       "1  Small but cozy and quite room with a full size...   \n",
       "2  Come stay with a friendly, middle-aged guy in ...   \n",
       "3  Most places you find in Boston are small howev...   \n",
       "4  Clean, attractive, private room, one block fro...   \n",
       "\n",
       "                                         description experiences_offered  \\\n",
       "0  Cozy, sunny, family home.  Master bedroom high...                none   \n",
       "1  Charming and quiet room in a second floor 1910...                none   \n",
       "2  Come stay with a friendly, middle-aged guy in ...                none   \n",
       "3  Come experience the comforts of home away from...                none   \n",
       "4  My comfy, clean and relaxing home is one block...                none   \n",
       "\n",
       "                               neighborhood_overview  ... review_scores_value  \\\n",
       "0  Roslindale is quiet, convenient and friendly. ...  ...                 NaN   \n",
       "1  The room is in Roslindale, a diverse and prima...  ...                 9.0   \n",
       "2  The LOCATION: Roslindale is a safe and diverse...  ...                10.0   \n",
       "3  Roslindale is a lovely little neighborhood loc...  ...                10.0   \n",
       "4  I love the proximity to downtown, the neighbor...  ...                10.0   \n",
       "\n",
       "  requires_license license jurisdiction_names instant_bookable  \\\n",
       "0                f     NaN                NaN                f   \n",
       "1                f     NaN                NaN                t   \n",
       "2                f     NaN                NaN                f   \n",
       "3                f     NaN                NaN                f   \n",
       "4                f     NaN                NaN                f   \n",
       "\n",
       "  cancellation_policy require_guest_profile_picture  \\\n",
       "0            moderate                             f   \n",
       "1            moderate                             f   \n",
       "2            moderate                             t   \n",
       "3            moderate                             f   \n",
       "4            flexible                             f   \n",
       "\n",
       "  require_guest_phone_verification calculated_host_listings_count  \\\n",
       "0                                f                              1   \n",
       "1                                f                              1   \n",
       "2                                f                              1   \n",
       "3                                f                              1   \n",
       "4                                f                              1   \n",
       "\n",
       "   reviews_per_month  \n",
       "0                NaN  \n",
       "1               1.30  \n",
       "2               0.47  \n",
       "3               1.00  \n",
       "4               2.25  \n",
       "\n",
       "[5 rows x 95 columns]"
      ]
     },
     "execution_count": 1,
     "metadata": {},
     "output_type": "execute_result"
    }
   ],
   "source": [
    "import numpy as np\n",
    "import pandas as pd\n",
    "import seaborn as sns\n",
    "import matplotlib.pyplot as plt\n",
    "from sklearn.linear_model import LinearRegression\n",
    "from sklearn.model_selection import train_test_split\n",
    "from sklearn.metrics import r2_score\n",
    "%matplotlib inline\n",
    "\n",
    "df = pd.read_csv('./listings.csv')\n",
    "df.head()"
   ]
  },
  {
   "cell_type": "markdown",
   "id": "27bc2fb2",
   "metadata": {},
   "source": [
    "***"
   ]
  },
  {
   "cell_type": "markdown",
   "id": "6e83b486",
   "metadata": {},
   "source": [
    "### Data Understanding Part I\n",
    "In a first step, I try to familiarise myself with the data set. What are the features that interest me? What is the overall quality?"
   ]
  },
  {
   "cell_type": "code",
   "execution_count": 2,
   "id": "9bf11ac9",
   "metadata": {},
   "outputs": [
    {
     "name": "stdout",
     "output_type": "stream",
     "text": [
      "<class 'pandas.core.frame.DataFrame'>\n",
      "RangeIndex: 3585 entries, 0 to 3584\n",
      "Data columns (total 95 columns):\n",
      " #   Column                            Non-Null Count  Dtype  \n",
      "---  ------                            --------------  -----  \n",
      " 0   id                                3585 non-null   int64  \n",
      " 1   listing_url                       3585 non-null   object \n",
      " 2   scrape_id                         3585 non-null   int64  \n",
      " 3   last_scraped                      3585 non-null   object \n",
      " 4   name                              3585 non-null   object \n",
      " 5   summary                           3442 non-null   object \n",
      " 6   space                             2528 non-null   object \n",
      " 7   description                       3585 non-null   object \n",
      " 8   experiences_offered               3585 non-null   object \n",
      " 9   neighborhood_overview             2170 non-null   object \n",
      " 10  notes                             1610 non-null   object \n",
      " 11  transit                           2295 non-null   object \n",
      " 12  access                            2096 non-null   object \n",
      " 13  interaction                       2031 non-null   object \n",
      " 14  house_rules                       2393 non-null   object \n",
      " 15  thumbnail_url                     2986 non-null   object \n",
      " 16  medium_url                        2986 non-null   object \n",
      " 17  picture_url                       3585 non-null   object \n",
      " 18  xl_picture_url                    2986 non-null   object \n",
      " 19  host_id                           3585 non-null   int64  \n",
      " 20  host_url                          3585 non-null   object \n",
      " 21  host_name                         3585 non-null   object \n",
      " 22  host_since                        3585 non-null   object \n",
      " 23  host_location                     3574 non-null   object \n",
      " 24  host_about                        2276 non-null   object \n",
      " 25  host_response_time                3114 non-null   object \n",
      " 26  host_response_rate                3114 non-null   object \n",
      " 27  host_acceptance_rate              3114 non-null   object \n",
      " 28  host_is_superhost                 3585 non-null   object \n",
      " 29  host_thumbnail_url                3585 non-null   object \n",
      " 30  host_picture_url                  3585 non-null   object \n",
      " 31  host_neighbourhood                3246 non-null   object \n",
      " 32  host_listings_count               3585 non-null   int64  \n",
      " 33  host_total_listings_count         3585 non-null   int64  \n",
      " 34  host_verifications                3585 non-null   object \n",
      " 35  host_has_profile_pic              3585 non-null   object \n",
      " 36  host_identity_verified            3585 non-null   object \n",
      " 37  street                            3585 non-null   object \n",
      " 38  neighbourhood                     3042 non-null   object \n",
      " 39  neighbourhood_cleansed            3585 non-null   object \n",
      " 40  neighbourhood_group_cleansed      0 non-null      float64\n",
      " 41  city                              3583 non-null   object \n",
      " 42  state                             3585 non-null   object \n",
      " 43  zipcode                           3547 non-null   object \n",
      " 44  market                            3571 non-null   object \n",
      " 45  smart_location                    3585 non-null   object \n",
      " 46  country_code                      3585 non-null   object \n",
      " 47  country                           3585 non-null   object \n",
      " 48  latitude                          3585 non-null   float64\n",
      " 49  longitude                         3585 non-null   float64\n",
      " 50  is_location_exact                 3585 non-null   object \n",
      " 51  property_type                     3582 non-null   object \n",
      " 52  room_type                         3585 non-null   object \n",
      " 53  accommodates                      3585 non-null   int64  \n",
      " 54  bathrooms                         3571 non-null   float64\n",
      " 55  bedrooms                          3575 non-null   float64\n",
      " 56  beds                              3576 non-null   float64\n",
      " 57  bed_type                          3585 non-null   object \n",
      " 58  amenities                         3585 non-null   object \n",
      " 59  square_feet                       56 non-null     float64\n",
      " 60  price                             3585 non-null   object \n",
      " 61  weekly_price                      892 non-null    object \n",
      " 62  monthly_price                     888 non-null    object \n",
      " 63  security_deposit                  1342 non-null   object \n",
      " 64  cleaning_fee                      2478 non-null   object \n",
      " 65  guests_included                   3585 non-null   int64  \n",
      " 66  extra_people                      3585 non-null   object \n",
      " 67  minimum_nights                    3585 non-null   int64  \n",
      " 68  maximum_nights                    3585 non-null   int64  \n",
      " 69  calendar_updated                  3585 non-null   object \n",
      " 70  has_availability                  0 non-null      float64\n",
      " 71  availability_30                   3585 non-null   int64  \n",
      " 72  availability_60                   3585 non-null   int64  \n",
      " 73  availability_90                   3585 non-null   int64  \n",
      " 74  availability_365                  3585 non-null   int64  \n",
      " 75  calendar_last_scraped             3585 non-null   object \n",
      " 76  number_of_reviews                 3585 non-null   int64  \n",
      " 77  first_review                      2829 non-null   object \n",
      " 78  last_review                       2829 non-null   object \n",
      " 79  review_scores_rating              2772 non-null   float64\n",
      " 80  review_scores_accuracy            2762 non-null   float64\n",
      " 81  review_scores_cleanliness         2767 non-null   float64\n",
      " 82  review_scores_checkin             2765 non-null   float64\n",
      " 83  review_scores_communication       2767 non-null   float64\n",
      " 84  review_scores_location            2763 non-null   float64\n",
      " 85  review_scores_value               2764 non-null   float64\n",
      " 86  requires_license                  3585 non-null   object \n",
      " 87  license                           0 non-null      float64\n",
      " 88  jurisdiction_names                0 non-null      float64\n",
      " 89  instant_bookable                  3585 non-null   object \n",
      " 90  cancellation_policy               3585 non-null   object \n",
      " 91  require_guest_profile_picture     3585 non-null   object \n",
      " 92  require_guest_phone_verification  3585 non-null   object \n",
      " 93  calculated_host_listings_count    3585 non-null   int64  \n",
      " 94  reviews_per_month                 2829 non-null   float64\n",
      "dtypes: float64(18), int64(15), object(62)\n",
      "memory usage: 2.6+ MB\n"
     ]
    }
   ],
   "source": [
    "df.info()"
   ]
  },
  {
   "cell_type": "code",
   "execution_count": 3,
   "id": "2e9d8a13",
   "metadata": {},
   "outputs": [
    {
     "name": "stdout",
     "output_type": "stream",
     "text": [
      "{'is_location_exact', 'minimum_nights', 'instant_bookable', 'cancellation_policy', 'price', 'neighbourhood_cleansed', 'calendar_updated', 'number_of_reviews', 'smart_location', 'listing_url', 'accommodates', 'host_is_superhost', 'host_has_profile_pic', 'availability_90', 'requires_license', 'room_type', 'description', 'name', 'experiences_offered', 'last_scraped', 'host_url', 'country', 'availability_60', 'calendar_last_scraped', 'state', 'bed_type', 'country_code', 'street', 'host_since', 'host_picture_url', 'host_verifications', 'host_id', 'latitude', 'longitude', 'require_guest_phone_verification', 'calculated_host_listings_count', 'availability_30', 'host_listings_count', 'id', 'host_total_listings_count', 'availability_365', 'host_identity_verified', 'scrape_id', 'amenities', 'maximum_nights', 'extra_people', 'host_thumbnail_url', 'require_guest_profile_picture', 'picture_url', 'host_name', 'guests_included'}\n"
     ]
    }
   ],
   "source": [
    "# As we can see above, the data has a good overall quality with little missing values\n",
    "# Number of NULL: 0 missing values\n",
    "no_nulls = set(df.columns[df.isnull().mean()==0])\n",
    "print(no_nulls)"
   ]
  },
  {
   "cell_type": "code",
   "execution_count": 4,
   "id": "792a9e2d",
   "metadata": {},
   "outputs": [
    {
     "name": "stdout",
     "output_type": "stream",
     "text": [
      "{'weekly_price', 'license', 'square_feet', 'neighbourhood_group_cleansed', 'jurisdiction_names', 'monthly_price', 'has_availability'}\n"
     ]
    }
   ],
   "source": [
    "# Number of NULL: most missing values\n",
    "most_missing_values = set(df.columns[df.isnull().mean()>0.75])\n",
    "print(most_missing_values)"
   ]
  },
  {
   "cell_type": "code",
   "execution_count": 5,
   "id": "330d0e62",
   "metadata": {},
   "outputs": [
    {
     "name": "stdout",
     "output_type": "stream",
     "text": [
      "0\n"
     ]
    }
   ],
   "source": [
    "# Number of duplicates\n",
    "print(df.drop(['id', 'scrape_id', 'host_id'], axis=1).duplicated().sum())"
   ]
  },
  {
   "cell_type": "code",
   "execution_count": 6,
   "id": "3371ce60",
   "metadata": {},
   "outputs": [
    {
     "name": "stdout",
     "output_type": "stream",
     "text": [
      "neighbourhood_group_cleansed       0\n",
      "has_availability                   0\n",
      "jurisdiction_names                 0\n",
      "license                            0\n",
      "country                            1\n",
      "                                ... \n",
      "listing_url                     3585\n",
      "longitude                       3585\n",
      "latitude                        3585\n",
      "picture_url                     3585\n",
      "id                              3585\n",
      "Length: 95, dtype: int64\n"
     ]
    }
   ],
   "source": [
    "# Number of unique values\n",
    "print(df.nunique().sort_values())"
   ]
  },
  {
   "cell_type": "markdown",
   "id": "5fffc78b",
   "metadata": {},
   "source": [
    "***"
   ]
  },
  {
   "cell_type": "markdown",
   "id": "01ccb771",
   "metadata": {},
   "source": [
    "### Data Preparation\n",
    "The following steps were made in this section:\n",
    " - drop columns with missing values higher than 75%\n",
    " - choosing the columns of interest and let the others drop\n",
    " - after that, I had to convert 'price' from object to float\n",
    " - I deleted two outliers in the column 'price'\n",
    " - there are still missing values in 'zipcode' and 'property_type' so I decided to delete the single rows (41 rows out of 3583)"
   ]
  },
  {
   "cell_type": "code",
   "execution_count": 7,
   "id": "5f3363dc",
   "metadata": {},
   "outputs": [],
   "source": [
    "# Drop the columns with a lot of missing values (higher than 75%)\n",
    "df = df.drop(most_missing_values,axis=1)"
   ]
  },
  {
   "cell_type": "code",
   "execution_count": 8,
   "id": "efff21c0",
   "metadata": {},
   "outputs": [
    {
     "data": {
      "text/plain": [
       "['listing_url',\n",
       " 'last_scraped',\n",
       " 'name',\n",
       " 'summary',\n",
       " 'space',\n",
       " 'description',\n",
       " 'experiences_offered',\n",
       " 'neighborhood_overview',\n",
       " 'notes',\n",
       " 'transit',\n",
       " 'access',\n",
       " 'interaction',\n",
       " 'house_rules',\n",
       " 'thumbnail_url',\n",
       " 'medium_url',\n",
       " 'picture_url',\n",
       " 'xl_picture_url',\n",
       " 'host_url',\n",
       " 'host_name',\n",
       " 'host_since',\n",
       " 'host_location',\n",
       " 'host_about',\n",
       " 'host_response_time',\n",
       " 'host_response_rate',\n",
       " 'host_acceptance_rate',\n",
       " 'host_is_superhost',\n",
       " 'host_thumbnail_url',\n",
       " 'host_picture_url',\n",
       " 'host_neighbourhood',\n",
       " 'host_verifications',\n",
       " 'host_has_profile_pic',\n",
       " 'host_identity_verified',\n",
       " 'street',\n",
       " 'neighbourhood',\n",
       " 'neighbourhood_cleansed',\n",
       " 'city',\n",
       " 'state',\n",
       " 'zipcode',\n",
       " 'market',\n",
       " 'smart_location',\n",
       " 'country_code',\n",
       " 'country',\n",
       " 'is_location_exact',\n",
       " 'property_type',\n",
       " 'room_type',\n",
       " 'bed_type',\n",
       " 'amenities',\n",
       " 'price',\n",
       " 'security_deposit',\n",
       " 'cleaning_fee',\n",
       " 'extra_people',\n",
       " 'calendar_updated',\n",
       " 'calendar_last_scraped',\n",
       " 'first_review',\n",
       " 'last_review',\n",
       " 'requires_license',\n",
       " 'instant_bookable',\n",
       " 'cancellation_policy',\n",
       " 'require_guest_profile_picture',\n",
       " 'require_guest_phone_verification']"
      ]
     },
     "execution_count": 8,
     "metadata": {},
     "output_type": "execute_result"
    }
   ],
   "source": [
    "# Having a look on the object-type featueres in df\n",
    "list(df.select_dtypes(include=['object']).columns)"
   ]
  },
  {
   "cell_type": "code",
   "execution_count": 9,
   "id": "6dcddd61",
   "metadata": {},
   "outputs": [],
   "source": [
    "# Choosing the features of interest from above\n",
    "df_object_columns = ['bed_type',\n",
    " 'cancellation_policy',\n",
    " 'zipcode',\n",
    " 'country',\n",
    " 'host_has_profile_pic',\n",
    " 'host_identity_verified',\n",
    " 'host_is_superhost',\n",
    " 'instant_bookable',\n",
    " 'property_type',\n",
    " 'neighbourhood_cleansed',\n",
    " 'room_type']"
   ]
  },
  {
   "cell_type": "code",
   "execution_count": 10,
   "id": "545b7de1",
   "metadata": {},
   "outputs": [
    {
     "data": {
      "text/plain": [
       "['id',\n",
       " 'scrape_id',\n",
       " 'host_id',\n",
       " 'host_listings_count',\n",
       " 'host_total_listings_count',\n",
       " 'latitude',\n",
       " 'longitude',\n",
       " 'accommodates',\n",
       " 'bathrooms',\n",
       " 'bedrooms',\n",
       " 'beds',\n",
       " 'guests_included',\n",
       " 'minimum_nights',\n",
       " 'maximum_nights',\n",
       " 'availability_30',\n",
       " 'availability_60',\n",
       " 'availability_90',\n",
       " 'availability_365',\n",
       " 'number_of_reviews',\n",
       " 'review_scores_rating',\n",
       " 'review_scores_accuracy',\n",
       " 'review_scores_cleanliness',\n",
       " 'review_scores_checkin',\n",
       " 'review_scores_communication',\n",
       " 'review_scores_location',\n",
       " 'review_scores_value',\n",
       " 'calculated_host_listings_count',\n",
       " 'reviews_per_month']"
      ]
     },
     "execution_count": 10,
     "metadata": {},
     "output_type": "execute_result"
    }
   ],
   "source": [
    "# Having a look on the other types\n",
    "list(df.select_dtypes(exclude=['object']).columns)"
   ]
  },
  {
   "cell_type": "code",
   "execution_count": 11,
   "id": "6121adf6",
   "metadata": {},
   "outputs": [],
   "source": [
    "# Also in this case I am choosing the features of interest\n",
    "# I did take 'price' to the nonobjects\n",
    "df_nonobject_columns = ['accommodates',\n",
    " 'availability_30',\n",
    " 'availability_365',\n",
    " 'bathrooms',\n",
    " 'bedrooms',\n",
    " 'beds',\n",
    " 'guests_included',\n",
    " 'id',\n",
    " 'maximum_nights',\n",
    " 'minimum_nights',\n",
    " 'number_of_reviews',\n",
    " 'price',\n",
    " 'review_scores_rating']"
   ]
  },
  {
   "cell_type": "code",
   "execution_count": 12,
   "id": "e6187cc1",
   "metadata": {},
   "outputs": [
    {
     "name": "stdout",
     "output_type": "stream",
     "text": [
      "<class 'pandas.core.frame.DataFrame'>\n",
      "RangeIndex: 3585 entries, 0 to 3584\n",
      "Data columns (total 13 columns):\n",
      " #   Column                Non-Null Count  Dtype  \n",
      "---  ------                --------------  -----  \n",
      " 0   accommodates          3585 non-null   int64  \n",
      " 1   availability_30       3585 non-null   int64  \n",
      " 2   availability_365      3585 non-null   int64  \n",
      " 3   bathrooms             3571 non-null   float64\n",
      " 4   bedrooms              3575 non-null   float64\n",
      " 5   beds                  3576 non-null   float64\n",
      " 6   guests_included       3585 non-null   int64  \n",
      " 7   id                    3585 non-null   int64  \n",
      " 8   maximum_nights        3585 non-null   int64  \n",
      " 9   minimum_nights        3585 non-null   int64  \n",
      " 10  number_of_reviews     3585 non-null   int64  \n",
      " 11  price                 3585 non-null   object \n",
      " 12  review_scores_rating  2772 non-null   float64\n",
      "dtypes: float64(4), int64(8), object(1)\n",
      "memory usage: 364.2+ KB\n"
     ]
    }
   ],
   "source": [
    "df[df_nonobject_columns].info()"
   ]
  },
  {
   "cell_type": "code",
   "execution_count": 13,
   "id": "e4f5cae5",
   "metadata": {},
   "outputs": [
    {
     "name": "stdout",
     "output_type": "stream",
     "text": [
      "0       250.0\n",
      "1        65.0\n",
      "2        65.0\n",
      "3        75.0\n",
      "4        79.0\n",
      "        ...  \n",
      "3580     69.0\n",
      "3581    150.0\n",
      "3582    198.0\n",
      "3583     65.0\n",
      "3584     65.0\n",
      "Name: price, Length: 3585, dtype: float64\n"
     ]
    },
    {
     "name": "stderr",
     "output_type": "stream",
     "text": [
      "<ipython-input-13-d6d0a14808e6>:3: FutureWarning: The default value of regex will change from True to False in a future version. In addition, single character regular expressions will*not* be treated as literal strings when regex=True.\n",
      "  df['price'] = df['price'].str.replace('$','')\n"
     ]
    }
   ],
   "source": [
    "# Since most of the values are valid, it makes sense to fill the remaining ones with the mean\n",
    "# But first, the 'price'-feature needs to become a float\n",
    "df['price'] = df['price'].str.replace('$','')\n",
    "df['price'] = df['price'].str.replace(',','')\n",
    "df['price'] = df['price'].astype(float)\n",
    "print(df['price'])"
   ]
  },
  {
   "cell_type": "code",
   "execution_count": 14,
   "id": "cf22ec36",
   "metadata": {},
   "outputs": [
    {
     "data": {
      "text/plain": [
       "2285    4000.0\n",
       "3055    3000.0\n",
       "793     1400.0\n",
       "2204    1372.0\n",
       "1950    1345.0\n",
       "         ...  \n",
       "777       22.0\n",
       "3450      20.0\n",
       "471       20.0\n",
       "3468      11.0\n",
       "2033      10.0\n",
       "Name: price, Length: 3585, dtype: float64"
      ]
     },
     "execution_count": 14,
     "metadata": {},
     "output_type": "execute_result"
    }
   ],
   "source": [
    "df['price'].sort_values(ascending = False)"
   ]
  },
  {
   "cell_type": "code",
   "execution_count": 15,
   "id": "9ed91969",
   "metadata": {},
   "outputs": [],
   "source": [
    "df.drop(df.loc[df['price']==4000].index, inplace=True)\n",
    "df.drop(df.loc[df['price']==3000].index, inplace=True)"
   ]
  },
  {
   "cell_type": "code",
   "execution_count": 16,
   "id": "b455ef49",
   "metadata": {},
   "outputs": [],
   "source": [
    "# Filling in the means of the columns\n",
    "fill_mean = lambda col: col.fillna(col.mean())\n",
    "df_new = df[df_nonobject_columns].apply(fill_mean, axis=0)"
   ]
  },
  {
   "cell_type": "code",
   "execution_count": 17,
   "id": "726e81d9",
   "metadata": {},
   "outputs": [
    {
     "name": "stdout",
     "output_type": "stream",
     "text": [
      "<class 'pandas.core.frame.DataFrame'>\n",
      "Int64Index: 3583 entries, 0 to 3584\n",
      "Data columns (total 13 columns):\n",
      " #   Column                Non-Null Count  Dtype  \n",
      "---  ------                --------------  -----  \n",
      " 0   accommodates          3583 non-null   int64  \n",
      " 1   availability_30       3583 non-null   int64  \n",
      " 2   availability_365      3583 non-null   int64  \n",
      " 3   bathrooms             3583 non-null   float64\n",
      " 4   bedrooms              3583 non-null   float64\n",
      " 5   beds                  3583 non-null   float64\n",
      " 6   guests_included       3583 non-null   int64  \n",
      " 7   id                    3583 non-null   int64  \n",
      " 8   maximum_nights        3583 non-null   int64  \n",
      " 9   minimum_nights        3583 non-null   int64  \n",
      " 10  number_of_reviews     3583 non-null   int64  \n",
      " 11  price                 3583 non-null   float64\n",
      " 12  review_scores_rating  3583 non-null   float64\n",
      "dtypes: float64(5), int64(8)\n",
      "memory usage: 391.9 KB\n"
     ]
    }
   ],
   "source": [
    "df_new[df_nonobject_columns].info()"
   ]
  },
  {
   "cell_type": "code",
   "execution_count": 18,
   "id": "c31c8de1",
   "metadata": {},
   "outputs": [
    {
     "name": "stdout",
     "output_type": "stream",
     "text": [
      "<class 'pandas.core.frame.DataFrame'>\n",
      "Int64Index: 3583 entries, 0 to 3584\n",
      "Data columns (total 11 columns):\n",
      " #   Column                  Non-Null Count  Dtype \n",
      "---  ------                  --------------  ----- \n",
      " 0   bed_type                3583 non-null   object\n",
      " 1   cancellation_policy     3583 non-null   object\n",
      " 2   zipcode                 3545 non-null   object\n",
      " 3   country                 3583 non-null   object\n",
      " 4   host_has_profile_pic    3583 non-null   object\n",
      " 5   host_identity_verified  3583 non-null   object\n",
      " 6   host_is_superhost       3583 non-null   object\n",
      " 7   instant_bookable        3583 non-null   object\n",
      " 8   property_type           3580 non-null   object\n",
      " 9   neighbourhood_cleansed  3583 non-null   object\n",
      " 10  room_type               3583 non-null   object\n",
      "dtypes: object(11)\n",
      "memory usage: 335.9+ KB\n"
     ]
    }
   ],
   "source": [
    "# After the nonobjects features, let's have a look at the objects\n",
    "df[df_object_columns].info()"
   ]
  },
  {
   "cell_type": "code",
   "execution_count": 19,
   "id": "8817e466",
   "metadata": {},
   "outputs": [],
   "source": [
    "# The featurs above look good, so we can concatenate them with the nonobjects ones\n",
    "df_clean = pd.concat([df_new[df_nonobject_columns],df[df_object_columns]],axis=1)"
   ]
  },
  {
   "cell_type": "code",
   "execution_count": 20,
   "id": "c1148481",
   "metadata": {},
   "outputs": [
    {
     "name": "stdout",
     "output_type": "stream",
     "text": [
      "<class 'pandas.core.frame.DataFrame'>\n",
      "Int64Index: 3583 entries, 0 to 3584\n",
      "Data columns (total 24 columns):\n",
      " #   Column                  Non-Null Count  Dtype  \n",
      "---  ------                  --------------  -----  \n",
      " 0   accommodates            3583 non-null   int64  \n",
      " 1   availability_30         3583 non-null   int64  \n",
      " 2   availability_365        3583 non-null   int64  \n",
      " 3   bathrooms               3583 non-null   float64\n",
      " 4   bedrooms                3583 non-null   float64\n",
      " 5   beds                    3583 non-null   float64\n",
      " 6   guests_included         3583 non-null   int64  \n",
      " 7   id                      3583 non-null   int64  \n",
      " 8   maximum_nights          3583 non-null   int64  \n",
      " 9   minimum_nights          3583 non-null   int64  \n",
      " 10  number_of_reviews       3583 non-null   int64  \n",
      " 11  price                   3583 non-null   float64\n",
      " 12  review_scores_rating    3583 non-null   float64\n",
      " 13  bed_type                3583 non-null   object \n",
      " 14  cancellation_policy     3583 non-null   object \n",
      " 15  zipcode                 3545 non-null   object \n",
      " 16  country                 3583 non-null   object \n",
      " 17  host_has_profile_pic    3583 non-null   object \n",
      " 18  host_identity_verified  3583 non-null   object \n",
      " 19  host_is_superhost       3583 non-null   object \n",
      " 20  instant_bookable        3583 non-null   object \n",
      " 21  property_type           3580 non-null   object \n",
      " 22  neighbourhood_cleansed  3583 non-null   object \n",
      " 23  room_type               3583 non-null   object \n",
      "dtypes: float64(5), int64(8), object(11)\n",
      "memory usage: 699.8+ KB\n"
     ]
    }
   ],
   "source": [
    "df_clean.info()"
   ]
  },
  {
   "cell_type": "code",
   "execution_count": 21,
   "id": "4e3ea9e4",
   "metadata": {},
   "outputs": [],
   "source": [
    "# The last step is to delete the remaining NULLs\n",
    "df_clean = df_clean.dropna(subset=['zipcode'], how='any')"
   ]
  },
  {
   "cell_type": "code",
   "execution_count": 22,
   "id": "9eaa4e6a",
   "metadata": {},
   "outputs": [
    {
     "name": "stdout",
     "output_type": "stream",
     "text": [
      "<class 'pandas.core.frame.DataFrame'>\n",
      "Int64Index: 3545 entries, 0 to 3584\n",
      "Data columns (total 24 columns):\n",
      " #   Column                  Non-Null Count  Dtype  \n",
      "---  ------                  --------------  -----  \n",
      " 0   accommodates            3545 non-null   int64  \n",
      " 1   availability_30         3545 non-null   int64  \n",
      " 2   availability_365        3545 non-null   int64  \n",
      " 3   bathrooms               3545 non-null   float64\n",
      " 4   bedrooms                3545 non-null   float64\n",
      " 5   beds                    3545 non-null   float64\n",
      " 6   guests_included         3545 non-null   int64  \n",
      " 7   id                      3545 non-null   int64  \n",
      " 8   maximum_nights          3545 non-null   int64  \n",
      " 9   minimum_nights          3545 non-null   int64  \n",
      " 10  number_of_reviews       3545 non-null   int64  \n",
      " 11  price                   3545 non-null   float64\n",
      " 12  review_scores_rating    3545 non-null   float64\n",
      " 13  bed_type                3545 non-null   object \n",
      " 14  cancellation_policy     3545 non-null   object \n",
      " 15  zipcode                 3545 non-null   object \n",
      " 16  country                 3545 non-null   object \n",
      " 17  host_has_profile_pic    3545 non-null   object \n",
      " 18  host_identity_verified  3545 non-null   object \n",
      " 19  host_is_superhost       3545 non-null   object \n",
      " 20  instant_bookable        3545 non-null   object \n",
      " 21  property_type           3542 non-null   object \n",
      " 22  neighbourhood_cleansed  3545 non-null   object \n",
      " 23  room_type               3545 non-null   object \n",
      "dtypes: float64(5), int64(8), object(11)\n",
      "memory usage: 692.4+ KB\n"
     ]
    }
   ],
   "source": [
    "df_clean.info()"
   ]
  },
  {
   "cell_type": "code",
   "execution_count": 23,
   "id": "054a0145",
   "metadata": {},
   "outputs": [],
   "source": [
    "df_clean = df_clean.dropna(subset=['property_type'], how='any')"
   ]
  },
  {
   "cell_type": "code",
   "execution_count": 24,
   "id": "6bcd4e1d",
   "metadata": {},
   "outputs": [
    {
     "name": "stdout",
     "output_type": "stream",
     "text": [
      "<class 'pandas.core.frame.DataFrame'>\n",
      "Int64Index: 3542 entries, 0 to 3584\n",
      "Data columns (total 24 columns):\n",
      " #   Column                  Non-Null Count  Dtype  \n",
      "---  ------                  --------------  -----  \n",
      " 0   accommodates            3542 non-null   int64  \n",
      " 1   availability_30         3542 non-null   int64  \n",
      " 2   availability_365        3542 non-null   int64  \n",
      " 3   bathrooms               3542 non-null   float64\n",
      " 4   bedrooms                3542 non-null   float64\n",
      " 5   beds                    3542 non-null   float64\n",
      " 6   guests_included         3542 non-null   int64  \n",
      " 7   id                      3542 non-null   int64  \n",
      " 8   maximum_nights          3542 non-null   int64  \n",
      " 9   minimum_nights          3542 non-null   int64  \n",
      " 10  number_of_reviews       3542 non-null   int64  \n",
      " 11  price                   3542 non-null   float64\n",
      " 12  review_scores_rating    3542 non-null   float64\n",
      " 13  bed_type                3542 non-null   object \n",
      " 14  cancellation_policy     3542 non-null   object \n",
      " 15  zipcode                 3542 non-null   object \n",
      " 16  country                 3542 non-null   object \n",
      " 17  host_has_profile_pic    3542 non-null   object \n",
      " 18  host_identity_verified  3542 non-null   object \n",
      " 19  host_is_superhost       3542 non-null   object \n",
      " 20  instant_bookable        3542 non-null   object \n",
      " 21  property_type           3542 non-null   object \n",
      " 22  neighbourhood_cleansed  3542 non-null   object \n",
      " 23  room_type               3542 non-null   object \n",
      "dtypes: float64(5), int64(8), object(11)\n",
      "memory usage: 691.8+ KB\n"
     ]
    }
   ],
   "source": [
    "df_clean.info()"
   ]
  },
  {
   "cell_type": "markdown",
   "id": "e3127fec",
   "metadata": {},
   "source": [
    "***"
   ]
  },
  {
   "cell_type": "markdown",
   "id": "49ae31ab",
   "metadata": {},
   "source": [
    "### Data Understanding Part II\n",
    "In this section, I first created some plots on price and its correlation with other floats or integer features. Then I examined the object-based categories and their relationship to price."
   ]
  },
  {
   "cell_type": "code",
   "execution_count": 25,
   "id": "20db7c6b",
   "metadata": {},
   "outputs": [
    {
     "data": {
      "text/plain": [
       "count    3542.000000\n",
       "mean      172.530774\n",
       "std       125.678962\n",
       "min        11.000000\n",
       "25%        85.000000\n",
       "50%       150.000000\n",
       "75%       220.000000\n",
       "max      1400.000000\n",
       "Name: price, dtype: float64"
      ]
     },
     "execution_count": 25,
     "metadata": {},
     "output_type": "execute_result"
    }
   ],
   "source": [
    "# After the first impression of the data, I guess it would be interesting having a focus on the feature 'price'.\n",
    "df_clean['price'].describe()"
   ]
  },
  {
   "cell_type": "code",
   "execution_count": 26,
   "id": "f3fb01a3",
   "metadata": {},
   "outputs": [
    {
     "data": {
      "image/png": "[encoded data removed]",
      "text/plain": [
       "<Figure size 432x288 with 1 Axes>"
      ]
     },
     "metadata": {
      "needs_background": "light"
     },
     "output_type": "display_data"
    }
   ],
   "source": [
    "sns.histplot(df_clean['price'])\n",
    "plt.show()"
   ]
  },
  {
   "cell_type": "code",
   "execution_count": 27,
   "id": "4e613663",
   "metadata": {},
   "outputs": [
    {
     "data": {
      "image/png": "[encoded data removed]",
      "text/plain": [
       "<Figure size 720x576 with 2 Axes>"
      ]
     },
     "metadata": {
      "needs_background": "light"
     },
     "output_type": "display_data"
    }
   ],
   "source": [
    "corrmatrix = df_clean.corr()\n",
    "plt.subplots(figsize=(10,8)) \n",
    "\n",
    "sns.heatmap(corrmatrix, annot = False)\n",
    "plt.show()"
   ]
  },
  {
   "cell_type": "code",
   "execution_count": 28,
   "id": "e5e43faf",
   "metadata": {
    "scrolled": true
   },
   "outputs": [
    {
     "name": "stdout",
     "output_type": "stream",
     "text": [
      "price                   1.000000\n",
      "accommodates            0.510439\n",
      "bedrooms                0.454518\n",
      "beds                    0.432514\n",
      "bathrooms               0.287564\n",
      "guests_included         0.248987\n",
      "availability_30         0.157823\n",
      "number_of_reviews       0.108398\n",
      "review_scores_rating    0.083774\n",
      "id                      0.081601\n",
      "availability_365        0.040203\n",
      "minimum_nights          0.023614\n",
      "maximum_nights          0.006344\n",
      "Name: price, dtype: float64\n"
     ]
    }
   ],
   "source": [
    "print(abs(corrmatrix['price']).sort_values(ascending = False))"
   ]
  },
  {
   "cell_type": "code",
   "execution_count": 29,
   "id": "7eb6679b",
   "metadata": {},
   "outputs": [
    {
     "data": {
      "image/png": "[encoded data removed]",
      "text/plain": [
       "<Figure size 1080x1080 with 42 Axes>"
      ]
     },
     "metadata": {
      "needs_background": "light"
     },
     "output_type": "display_data"
    }
   ],
   "source": [
    "sns.pairplot(df_clean[['price', 'accommodates', 'bedrooms', 'beds', 'bathrooms','guests_included']])\n",
    "plt.show()"
   ]
  },
  {
   "cell_type": "code",
   "execution_count": 30,
   "id": "6654381b",
   "metadata": {},
   "outputs": [
    {
     "data": {
      "text/plain": [
       "property_type\n",
       "Camper/RV             1\n",
       "Guesthouse            1\n",
       "Dorm                  2\n",
       "Entire Floor          4\n",
       "Villa                 6\n",
       "Boat                 12\n",
       "Other                17\n",
       "Loft                 38\n",
       "Bed & Breakfast      39\n",
       "Townhouse            53\n",
       "Condominium         229\n",
       "House               558\n",
       "Apartment          2582\n",
       "dtype: int64"
      ]
     },
     "execution_count": 30,
     "metadata": {},
     "output_type": "execute_result"
    }
   ],
   "source": [
    "# Not only the nonobjects correlations were interesting\n",
    "# In the following, we will have a look at the object typed features\n",
    "df_clean.groupby(['property_type']).size().sort_values()"
   ]
  },
  {
   "cell_type": "code",
   "execution_count": 31,
   "id": "894881f4",
   "metadata": {},
   "outputs": [
    {
     "data": {
      "image/png": "[encoded data removed]",
      "text/plain": [
       "<Figure size 432x288 with 1 Axes>"
      ]
     },
     "metadata": {
      "needs_background": "light"
     },
     "output_type": "display_data"
    }
   ],
   "source": [
    "df_clean.groupby(['property_type']).size().sort_values().plot.bar()\n",
    "plt.show()"
   ]
  },
  {
   "cell_type": "code",
   "execution_count": 32,
   "id": "e2bf14f4",
   "metadata": {},
   "outputs": [
    {
     "data": {
      "image/png": "[encoded data removed]",
      "text/plain": [
       "<Figure size 432x288 with 1 Axes>"
      ]
     },
     "metadata": {
      "needs_background": "light"
     },
     "output_type": "display_data"
    }
   ],
   "source": [
    "df_clean.groupby(['property_type']).mean()['price'].sort_values()[df_clean.groupby(['property_type']).size()>35].plot.bar(stacked=True)\n",
    "plt.show()"
   ]
  },
  {
   "cell_type": "code",
   "execution_count": 33,
   "id": "b5ae0177",
   "metadata": {},
   "outputs": [
    {
     "data": {
      "text/plain": [
       "zipcode\n",
       "02472            1\n",
       "02108 02111      1\n",
       "02134-1704       1\n",
       "02218            1\n",
       "02186            1\n",
       "02169            1\n",
       "02142            1\n",
       "02163            3\n",
       "02141            3\n",
       "02445            5\n",
       "02467            5\n",
       "02138            6\n",
       "02139            6\n",
       "02143            7\n",
       "02446            8\n",
       "02145           12\n",
       "02110           12\n",
       "02126           24\n",
       "02121           29\n",
       "02136           29\n",
       "02132           37\n",
       "02122           44\n",
       "02109           51\n",
       "02131           65\n",
       "02108           72\n",
       "02210           74\n",
       "02124           80\n",
       "02129           90\n",
       "02111           99\n",
       "02119          100\n",
       "02113          101\n",
       "02120          115\n",
       "02125          129\n",
       "02128          146\n",
       "02115          169\n",
       "02135          172\n",
       "02127          180\n",
       "02134          231\n",
       "02114          231\n",
       "02215          235\n",
       "02118          247\n",
       "02130          331\n",
       "02116          387\n",
       "dtype: int64"
      ]
     },
     "execution_count": 33,
     "metadata": {},
     "output_type": "execute_result"
    }
   ],
   "source": [
    "df_clean.groupby(['zipcode']).size().sort_values()"
   ]
  },
  {
   "cell_type": "code",
   "execution_count": 34,
   "id": "ca9a4f32",
   "metadata": {},
   "outputs": [
    {
     "data": {
      "image/png": "[encoded data removed]",
      "text/plain": [
       "<Figure size 432x288 with 1 Axes>"
      ]
     },
     "metadata": {
      "needs_background": "light"
     },
     "output_type": "display_data"
    }
   ],
   "source": [
    "df_clean.groupby(['zipcode']).mean()['price'].sort_values()[df_clean.groupby(['zipcode']).size()>10].plot.bar(stacked=True)\n",
    "plt.show()"
   ]
  },
  {
   "cell_type": "code",
   "execution_count": 35,
   "id": "29a5b15b",
   "metadata": {},
   "outputs": [
    {
     "data": {
      "text/plain": [
       "neighbourhood_cleansed\n",
       "Leather District             5\n",
       "Longwood Medical Area        7\n",
       "Mattapan                    24\n",
       "Bay Village                 24\n",
       "Hyde Park                   31\n",
       "West Roxbury                46\n",
       "West End                    49\n",
       "Roslindale                  55\n",
       "Chinatown                   71\n",
       "South Boston Waterfront     80\n",
       "Charlestown                111\n",
       "Mission Hill               123\n",
       "North End                  140\n",
       "Roxbury                    143\n",
       "East Boston                146\n",
       "Downtown                   169\n",
       "South Boston               173\n",
       "Brighton                   183\n",
       "Beacon Hill                194\n",
       "Allston                    257\n",
       "Dorchester                 265\n",
       "Fenway                     286\n",
       "Back Bay                   298\n",
       "South End                  322\n",
       "Jamaica Plain              340\n",
       "dtype: int64"
      ]
     },
     "execution_count": 35,
     "metadata": {},
     "output_type": "execute_result"
    }
   ],
   "source": [
    "df_clean.groupby(['neighbourhood_cleansed']).size().sort_values()"
   ]
  },
  {
   "cell_type": "code",
   "execution_count": 36,
   "id": "c9b70a7c",
   "metadata": {},
   "outputs": [
    {
     "data": {
      "image/png": "[encoded data removed]",
      "text/plain": [
       "<Figure size 432x288 with 1 Axes>"
      ]
     },
     "metadata": {
      "needs_background": "light"
     },
     "output_type": "display_data"
    }
   ],
   "source": [
    "df_clean.groupby(['neighbourhood_cleansed']).size().sort_values().plot.bar()\n",
    "plt.show()"
   ]
  },
  {
   "cell_type": "code",
   "execution_count": 37,
   "id": "d3e7d071",
   "metadata": {},
   "outputs": [
    {
     "data": {
      "text/plain": [
       "neighbourhood_cleansed\n",
       "Mattapan                    75.125000\n",
       "Hyde Park                   86.548387\n",
       "Dorchester                  91.879245\n",
       "Roslindale                  98.854545\n",
       "West Roxbury               107.108696\n",
       "Allston                    112.494163\n",
       "Brighton                   118.540984\n",
       "East Boston                119.684932\n",
       "Mission Hill               122.154472\n",
       "Jamaica Plain              138.382353\n",
       "Roxbury                    147.111888\n",
       "Longwood Medical Area      159.142857\n",
       "South Boston               187.826590\n",
       "North End                  197.071429\n",
       "Charlestown                198.045045\n",
       "South End                  204.381988\n",
       "Fenway                     208.146853\n",
       "West End                   209.591837\n",
       "Beacon Hill                224.443299\n",
       "Chinatown                  232.352113\n",
       "Downtown                   237.704142\n",
       "Back Bay                   241.738255\n",
       "Leather District           253.600000\n",
       "Bay Village                266.833333\n",
       "South Boston Waterfront    275.037500\n",
       "Name: price, dtype: float64"
      ]
     },
     "execution_count": 37,
     "metadata": {},
     "output_type": "execute_result"
    }
   ],
   "source": [
    "df_clean.groupby(['neighbourhood_cleansed'])['price'].mean().sort_values()"
   ]
  },
  {
   "cell_type": "code",
   "execution_count": 38,
   "id": "319cfe2e",
   "metadata": {},
   "outputs": [
    {
     "data": {
      "image/png": "[encoded data removed]",
      "text/plain": [
       "<Figure size 432x288 with 1 Axes>"
      ]
     },
     "metadata": {
      "needs_background": "light"
     },
     "output_type": "display_data"
    }
   ],
   "source": [
    "df_clean.groupby(['neighbourhood_cleansed'])['price'].mean().sort_values()[(df_clean.groupby(['neighbourhood_cleansed'])['price'].mean()>220) & (df_clean.groupby(['neighbourhood_cleansed']).size()>20)].plot.bar(stacked=True)\n",
    "plt.show()"
   ]
  },
  {
   "cell_type": "code",
   "execution_count": 39,
   "id": "0da97c4b",
   "metadata": {},
   "outputs": [],
   "source": [
    "# Create a boxplot of the most expensive neighbourhoods (including a minimum of 20 listings for each element).\n",
    "neighbourhoods_columns = list(df_clean.groupby(['neighbourhood_cleansed'])['price'].mean().sort_values()[(df_clean.groupby(['neighbourhood_cleansed'])['price'].mean()>220) & (df_clean.groupby(['neighbourhood_cleansed']).size()>20)].index)"
   ]
  },
  {
   "cell_type": "code",
   "execution_count": 40,
   "id": "702899b2",
   "metadata": {},
   "outputs": [
    {
     "data": {
      "text/plain": [
       "['Beacon Hill',\n",
       " 'Chinatown',\n",
       " 'Downtown',\n",
       " 'Back Bay',\n",
       " 'Bay Village',\n",
       " 'South Boston Waterfront']"
      ]
     },
     "execution_count": 40,
     "metadata": {},
     "output_type": "execute_result"
    }
   ],
   "source": [
    "neighbourhoods_columns"
   ]
  },
  {
   "cell_type": "code",
   "execution_count": 41,
   "id": "8dfa4fb8",
   "metadata": {},
   "outputs": [
    {
     "data": {
      "image/png": "[encoded data removed]",
      "text/plain": [
       "<Figure size 1440x720 with 1 Axes>"
      ]
     },
     "metadata": {
      "needs_background": "light"
     },
     "output_type": "display_data"
    }
   ],
   "source": [
    "df_clean[df_clean['neighbourhood_cleansed'].isin(neighbourhoods_columns)][['neighbourhood_cleansed','price']].boxplot(by='neighbourhood_cleansed', figsize=(20,10), showmeans=True)\n",
    "plt.show()"
   ]
  },
  {
   "cell_type": "code",
   "execution_count": 42,
   "id": "f3a70586",
   "metadata": {},
   "outputs": [
    {
     "data": {
      "image/png": "[encoded data removed]",
      "text/plain": [
       "<Figure size 432x288 with 1 Axes>"
      ]
     },
     "metadata": {
      "needs_background": "light"
     },
     "output_type": "display_data"
    },
    {
     "data": {
      "image/png": "[encoded data removed]",
      "text/plain": [
       "<Figure size 432x288 with 1 Axes>"
      ]
     },
     "metadata": {
      "needs_background": "light"
     },
     "output_type": "display_data"
    },
    {
     "data": {
      "image/png": "[encoded data removed]",
      "text/plain": [
       "<Figure size 432x288 with 1 Axes>"
      ]
     },
     "metadata": {
      "needs_background": "light"
     },
     "output_type": "display_data"
    },
    {
     "data": {
      "image/png": "[encoded data removed]",
      "text/plain": [
       "<Figure size 432x288 with 1 Axes>"
      ]
     },
     "metadata": {
      "needs_background": "light"
     },
     "output_type": "display_data"
    }
   ],
   "source": [
    "# Below I checked some more objects and their influence to the price.This will give me a good overview when building a model.\n",
    "\n",
    "df_clean.groupby(['instant_bookable']).mean()['price'].sort_values().plot.bar(stacked=True)\n",
    "plt.show()\n",
    "\n",
    "df_clean.groupby(['bed_type']).mean()['price'].sort_values().plot.bar(stacked=True)\n",
    "plt.show()\n",
    "\n",
    "df_clean.groupby(['room_type']).mean()['price'].sort_values().plot.bar(stacked=True)\n",
    "plt.show()\n",
    "\n",
    "df_clean.groupby(['cancellation_policy']).mean()['price'].sort_values().plot.bar(stacked=True)\n",
    "plt.show()"
   ]
  },
  {
   "cell_type": "markdown",
   "id": "7448f7c4",
   "metadata": {},
   "source": [
    "***"
   ]
  },
  {
   "cell_type": "markdown",
   "id": "9280fe1e",
   "metadata": {},
   "source": [
    "### Modelling\n",
    "In this section I have created a model with the features of interest. A second model was created to see how the neighbourhood affects the R2 score."
   ]
  },
  {
   "cell_type": "code",
   "execution_count": 43,
   "id": "434a190c",
   "metadata": {},
   "outputs": [],
   "source": [
    "# First we need to get dummies:\n",
    "df_dummies = pd.get_dummies(df_clean[['neighbourhood_cleansed']])"
   ]
  },
  {
   "cell_type": "code",
   "execution_count": 44,
   "id": "c347f679",
   "metadata": {},
   "outputs": [],
   "source": [
    "# Concatenate with desired non-objects:\n",
    "df_for_modeling = pd.concat([df_clean[['price','accommodates','bedrooms', 'beds', 'bathrooms','guests_included']], df_dummies], axis=1)"
   ]
  },
  {
   "cell_type": "code",
   "execution_count": 45,
   "id": "92b856c1",
   "metadata": {},
   "outputs": [
    {
     "data": {
      "text/html": [
       "<div>\n",
       "<style scoped>\n",
       "    .dataframe tbody tr th:only-of-type {\n",
       "        vertical-align: middle;\n",
       "    }\n",
       "\n",
       "    .dataframe tbody tr th {\n",
       "        vertical-align: top;\n",
       "    }\n",
       "\n",
       "    .dataframe thead th {\n",
       "        text-align: right;\n",
       "    }\n",
       "</style>\n",
       "<table border=\"1\" class=\"dataframe\">\n",
       "  <thead>\n",
       "    <tr style=\"text-align: right;\">\n",
       "      <th></th>\n",
       "      <th>price</th>\n",
       "      <th>accommodates</th>\n",
       "      <th>bedrooms</th>\n",
       "      <th>beds</th>\n",
       "      <th>bathrooms</th>\n",
       "      <th>guests_included</th>\n",
       "      <th>neighbourhood_cleansed_Allston</th>\n",
       "      <th>neighbourhood_cleansed_Back Bay</th>\n",
       "      <th>neighbourhood_cleansed_Bay Village</th>\n",
       "      <th>neighbourhood_cleansed_Beacon Hill</th>\n",
       "      <th>...</th>\n",
       "      <th>neighbourhood_cleansed_Mattapan</th>\n",
       "      <th>neighbourhood_cleansed_Mission Hill</th>\n",
       "      <th>neighbourhood_cleansed_North End</th>\n",
       "      <th>neighbourhood_cleansed_Roslindale</th>\n",
       "      <th>neighbourhood_cleansed_Roxbury</th>\n",
       "      <th>neighbourhood_cleansed_South Boston</th>\n",
       "      <th>neighbourhood_cleansed_South Boston Waterfront</th>\n",
       "      <th>neighbourhood_cleansed_South End</th>\n",
       "      <th>neighbourhood_cleansed_West End</th>\n",
       "      <th>neighbourhood_cleansed_West Roxbury</th>\n",
       "    </tr>\n",
       "  </thead>\n",
       "  <tbody>\n",
       "    <tr>\n",
       "      <th>0</th>\n",
       "      <td>250.0</td>\n",
       "      <td>4</td>\n",
       "      <td>2.0</td>\n",
       "      <td>3.0</td>\n",
       "      <td>1.5</td>\n",
       "      <td>1</td>\n",
       "      <td>0</td>\n",
       "      <td>0</td>\n",
       "      <td>0</td>\n",
       "      <td>0</td>\n",
       "      <td>...</td>\n",
       "      <td>0</td>\n",
       "      <td>0</td>\n",
       "      <td>0</td>\n",
       "      <td>1</td>\n",
       "      <td>0</td>\n",
       "      <td>0</td>\n",
       "      <td>0</td>\n",
       "      <td>0</td>\n",
       "      <td>0</td>\n",
       "      <td>0</td>\n",
       "    </tr>\n",
       "    <tr>\n",
       "      <th>1</th>\n",
       "      <td>65.0</td>\n",
       "      <td>2</td>\n",
       "      <td>1.0</td>\n",
       "      <td>1.0</td>\n",
       "      <td>1.0</td>\n",
       "      <td>0</td>\n",
       "      <td>0</td>\n",
       "      <td>0</td>\n",
       "      <td>0</td>\n",
       "      <td>0</td>\n",
       "      <td>...</td>\n",
       "      <td>0</td>\n",
       "      <td>0</td>\n",
       "      <td>0</td>\n",
       "      <td>1</td>\n",
       "      <td>0</td>\n",
       "      <td>0</td>\n",
       "      <td>0</td>\n",
       "      <td>0</td>\n",
       "      <td>0</td>\n",
       "      <td>0</td>\n",
       "    </tr>\n",
       "    <tr>\n",
       "      <th>2</th>\n",
       "      <td>65.0</td>\n",
       "      <td>2</td>\n",
       "      <td>1.0</td>\n",
       "      <td>1.0</td>\n",
       "      <td>1.0</td>\n",
       "      <td>1</td>\n",
       "      <td>0</td>\n",
       "      <td>0</td>\n",
       "      <td>0</td>\n",
       "      <td>0</td>\n",
       "      <td>...</td>\n",
       "      <td>0</td>\n",
       "      <td>0</td>\n",
       "      <td>0</td>\n",
       "      <td>1</td>\n",
       "      <td>0</td>\n",
       "      <td>0</td>\n",
       "      <td>0</td>\n",
       "      <td>0</td>\n",
       "      <td>0</td>\n",
       "      <td>0</td>\n",
       "    </tr>\n",
       "    <tr>\n",
       "      <th>4</th>\n",
       "      <td>79.0</td>\n",
       "      <td>2</td>\n",
       "      <td>1.0</td>\n",
       "      <td>2.0</td>\n",
       "      <td>1.5</td>\n",
       "      <td>1</td>\n",
       "      <td>0</td>\n",
       "      <td>0</td>\n",
       "      <td>0</td>\n",
       "      <td>0</td>\n",
       "      <td>...</td>\n",
       "      <td>0</td>\n",
       "      <td>0</td>\n",
       "      <td>0</td>\n",
       "      <td>1</td>\n",
       "      <td>0</td>\n",
       "      <td>0</td>\n",
       "      <td>0</td>\n",
       "      <td>0</td>\n",
       "      <td>0</td>\n",
       "      <td>0</td>\n",
       "    </tr>\n",
       "    <tr>\n",
       "      <th>5</th>\n",
       "      <td>75.0</td>\n",
       "      <td>2</td>\n",
       "      <td>1.0</td>\n",
       "      <td>1.0</td>\n",
       "      <td>1.0</td>\n",
       "      <td>1</td>\n",
       "      <td>0</td>\n",
       "      <td>0</td>\n",
       "      <td>0</td>\n",
       "      <td>0</td>\n",
       "      <td>...</td>\n",
       "      <td>0</td>\n",
       "      <td>0</td>\n",
       "      <td>0</td>\n",
       "      <td>1</td>\n",
       "      <td>0</td>\n",
       "      <td>0</td>\n",
       "      <td>0</td>\n",
       "      <td>0</td>\n",
       "      <td>0</td>\n",
       "      <td>0</td>\n",
       "    </tr>\n",
       "    <tr>\n",
       "      <th>...</th>\n",
       "      <td>...</td>\n",
       "      <td>...</td>\n",
       "      <td>...</td>\n",
       "      <td>...</td>\n",
       "      <td>...</td>\n",
       "      <td>...</td>\n",
       "      <td>...</td>\n",
       "      <td>...</td>\n",
       "      <td>...</td>\n",
       "      <td>...</td>\n",
       "      <td>...</td>\n",
       "      <td>...</td>\n",
       "      <td>...</td>\n",
       "      <td>...</td>\n",
       "      <td>...</td>\n",
       "      <td>...</td>\n",
       "      <td>...</td>\n",
       "      <td>...</td>\n",
       "      <td>...</td>\n",
       "      <td>...</td>\n",
       "      <td>...</td>\n",
       "    </tr>\n",
       "    <tr>\n",
       "      <th>3580</th>\n",
       "      <td>69.0</td>\n",
       "      <td>3</td>\n",
       "      <td>1.0</td>\n",
       "      <td>1.0</td>\n",
       "      <td>1.0</td>\n",
       "      <td>1</td>\n",
       "      <td>0</td>\n",
       "      <td>0</td>\n",
       "      <td>0</td>\n",
       "      <td>0</td>\n",
       "      <td>...</td>\n",
       "      <td>0</td>\n",
       "      <td>0</td>\n",
       "      <td>0</td>\n",
       "      <td>0</td>\n",
       "      <td>0</td>\n",
       "      <td>0</td>\n",
       "      <td>0</td>\n",
       "      <td>0</td>\n",
       "      <td>0</td>\n",
       "      <td>0</td>\n",
       "    </tr>\n",
       "    <tr>\n",
       "      <th>3581</th>\n",
       "      <td>150.0</td>\n",
       "      <td>2</td>\n",
       "      <td>1.0</td>\n",
       "      <td>1.0</td>\n",
       "      <td>1.0</td>\n",
       "      <td>1</td>\n",
       "      <td>1</td>\n",
       "      <td>0</td>\n",
       "      <td>0</td>\n",
       "      <td>0</td>\n",
       "      <td>...</td>\n",
       "      <td>0</td>\n",
       "      <td>0</td>\n",
       "      <td>0</td>\n",
       "      <td>0</td>\n",
       "      <td>0</td>\n",
       "      <td>0</td>\n",
       "      <td>0</td>\n",
       "      <td>0</td>\n",
       "      <td>0</td>\n",
       "      <td>0</td>\n",
       "    </tr>\n",
       "    <tr>\n",
       "      <th>3582</th>\n",
       "      <td>198.0</td>\n",
       "      <td>4</td>\n",
       "      <td>1.0</td>\n",
       "      <td>1.0</td>\n",
       "      <td>1.0</td>\n",
       "      <td>1</td>\n",
       "      <td>0</td>\n",
       "      <td>0</td>\n",
       "      <td>0</td>\n",
       "      <td>0</td>\n",
       "      <td>...</td>\n",
       "      <td>0</td>\n",
       "      <td>0</td>\n",
       "      <td>0</td>\n",
       "      <td>0</td>\n",
       "      <td>0</td>\n",
       "      <td>0</td>\n",
       "      <td>0</td>\n",
       "      <td>0</td>\n",
       "      <td>0</td>\n",
       "      <td>0</td>\n",
       "    </tr>\n",
       "    <tr>\n",
       "      <th>3583</th>\n",
       "      <td>65.0</td>\n",
       "      <td>2</td>\n",
       "      <td>1.0</td>\n",
       "      <td>1.0</td>\n",
       "      <td>1.0</td>\n",
       "      <td>1</td>\n",
       "      <td>0</td>\n",
       "      <td>0</td>\n",
       "      <td>0</td>\n",
       "      <td>0</td>\n",
       "      <td>...</td>\n",
       "      <td>0</td>\n",
       "      <td>0</td>\n",
       "      <td>0</td>\n",
       "      <td>0</td>\n",
       "      <td>0</td>\n",
       "      <td>0</td>\n",
       "      <td>0</td>\n",
       "      <td>0</td>\n",
       "      <td>0</td>\n",
       "      <td>0</td>\n",
       "    </tr>\n",
       "    <tr>\n",
       "      <th>3584</th>\n",
       "      <td>65.0</td>\n",
       "      <td>2</td>\n",
       "      <td>1.0</td>\n",
       "      <td>1.0</td>\n",
       "      <td>1.0</td>\n",
       "      <td>1</td>\n",
       "      <td>0</td>\n",
       "      <td>0</td>\n",
       "      <td>0</td>\n",
       "      <td>0</td>\n",
       "      <td>...</td>\n",
       "      <td>0</td>\n",
       "      <td>0</td>\n",
       "      <td>0</td>\n",
       "      <td>0</td>\n",
       "      <td>0</td>\n",
       "      <td>0</td>\n",
       "      <td>0</td>\n",
       "      <td>0</td>\n",
       "      <td>0</td>\n",
       "      <td>0</td>\n",
       "    </tr>\n",
       "  </tbody>\n",
       "</table>\n",
       "<p>3542 rows × 31 columns</p>\n",
       "</div>"
      ],
      "text/plain": [
       "      price  accommodates  bedrooms  beds  bathrooms  guests_included  \\\n",
       "0     250.0             4       2.0   3.0        1.5                1   \n",
       "1      65.0             2       1.0   1.0        1.0                0   \n",
       "2      65.0             2       1.0   1.0        1.0                1   \n",
       "4      79.0             2       1.0   2.0        1.5                1   \n",
       "5      75.0             2       1.0   1.0        1.0                1   \n",
       "...     ...           ...       ...   ...        ...              ...   \n",
       "3580   69.0             3       1.0   1.0        1.0                1   \n",
       "3581  150.0             2       1.0   1.0        1.0                1   \n",
       "3582  198.0             4       1.0   1.0        1.0                1   \n",
       "3583   65.0             2       1.0   1.0        1.0                1   \n",
       "3584   65.0             2       1.0   1.0        1.0                1   \n",
       "\n",
       "      neighbourhood_cleansed_Allston  neighbourhood_cleansed_Back Bay  \\\n",
       "0                                  0                                0   \n",
       "1                                  0                                0   \n",
       "2                                  0                                0   \n",
       "4                                  0                                0   \n",
       "5                                  0                                0   \n",
       "...                              ...                              ...   \n",
       "3580                               0                                0   \n",
       "3581                               1                                0   \n",
       "3582                               0                                0   \n",
       "3583                               0                                0   \n",
       "3584                               0                                0   \n",
       "\n",
       "      neighbourhood_cleansed_Bay Village  neighbourhood_cleansed_Beacon Hill  \\\n",
       "0                                      0                                   0   \n",
       "1                                      0                                   0   \n",
       "2                                      0                                   0   \n",
       "4                                      0                                   0   \n",
       "5                                      0                                   0   \n",
       "...                                  ...                                 ...   \n",
       "3580                                   0                                   0   \n",
       "3581                                   0                                   0   \n",
       "3582                                   0                                   0   \n",
       "3583                                   0                                   0   \n",
       "3584                                   0                                   0   \n",
       "\n",
       "      ...  neighbourhood_cleansed_Mattapan  \\\n",
       "0     ...                                0   \n",
       "1     ...                                0   \n",
       "2     ...                                0   \n",
       "4     ...                                0   \n",
       "5     ...                                0   \n",
       "...   ...                              ...   \n",
       "3580  ...                                0   \n",
       "3581  ...                                0   \n",
       "3582  ...                                0   \n",
       "3583  ...                                0   \n",
       "3584  ...                                0   \n",
       "\n",
       "      neighbourhood_cleansed_Mission Hill  neighbourhood_cleansed_North End  \\\n",
       "0                                       0                                 0   \n",
       "1                                       0                                 0   \n",
       "2                                       0                                 0   \n",
       "4                                       0                                 0   \n",
       "5                                       0                                 0   \n",
       "...                                   ...                               ...   \n",
       "3580                                    0                                 0   \n",
       "3581                                    0                                 0   \n",
       "3582                                    0                                 0   \n",
       "3583                                    0                                 0   \n",
       "3584                                    0                                 0   \n",
       "\n",
       "      neighbourhood_cleansed_Roslindale  neighbourhood_cleansed_Roxbury  \\\n",
       "0                                     1                               0   \n",
       "1                                     1                               0   \n",
       "2                                     1                               0   \n",
       "4                                     1                               0   \n",
       "5                                     1                               0   \n",
       "...                                 ...                             ...   \n",
       "3580                                  0                               0   \n",
       "3581                                  0                               0   \n",
       "3582                                  0                               0   \n",
       "3583                                  0                               0   \n",
       "3584                                  0                               0   \n",
       "\n",
       "      neighbourhood_cleansed_South Boston  \\\n",
       "0                                       0   \n",
       "1                                       0   \n",
       "2                                       0   \n",
       "4                                       0   \n",
       "5                                       0   \n",
       "...                                   ...   \n",
       "3580                                    0   \n",
       "3581                                    0   \n",
       "3582                                    0   \n",
       "3583                                    0   \n",
       "3584                                    0   \n",
       "\n",
       "      neighbourhood_cleansed_South Boston Waterfront  \\\n",
       "0                                                  0   \n",
       "1                                                  0   \n",
       "2                                                  0   \n",
       "4                                                  0   \n",
       "5                                                  0   \n",
       "...                                              ...   \n",
       "3580                                               0   \n",
       "3581                                               0   \n",
       "3582                                               0   \n",
       "3583                                               0   \n",
       "3584                                               0   \n",
       "\n",
       "      neighbourhood_cleansed_South End  neighbourhood_cleansed_West End  \\\n",
       "0                                    0                                0   \n",
       "1                                    0                                0   \n",
       "2                                    0                                0   \n",
       "4                                    0                                0   \n",
       "5                                    0                                0   \n",
       "...                                ...                              ...   \n",
       "3580                                 0                                0   \n",
       "3581                                 0                                0   \n",
       "3582                                 0                                0   \n",
       "3583                                 0                                0   \n",
       "3584                                 0                                0   \n",
       "\n",
       "      neighbourhood_cleansed_West Roxbury  \n",
       "0                                       0  \n",
       "1                                       0  \n",
       "2                                       0  \n",
       "4                                       0  \n",
       "5                                       0  \n",
       "...                                   ...  \n",
       "3580                                    0  \n",
       "3581                                    0  \n",
       "3582                                    0  \n",
       "3583                                    0  \n",
       "3584                                    0  \n",
       "\n",
       "[3542 rows x 31 columns]"
      ]
     },
     "execution_count": 45,
     "metadata": {},
     "output_type": "execute_result"
    }
   ],
   "source": [
    "df_for_modeling"
   ]
  },
  {
   "cell_type": "code",
   "execution_count": 46,
   "id": "8e3661c4",
   "metadata": {},
   "outputs": [
    {
     "name": "stdout",
     "output_type": "stream",
     "text": [
      "0.46115377040738303\n"
     ]
    }
   ],
   "source": [
    "# creating a model for predicting price using: zipcode,accommodates,bedrooms,beds,bathrooms,guests_included\n",
    "X = df_for_modeling.drop(['price'], axis=1)\n",
    "y = df_for_modeling['price']\n",
    "\n",
    "X_train, X_test, y_train, y_test = train_test_split(X, y, test_size=0.3, random_state=42)\n",
    "lm_model = LinearRegression(normalize=True)\n",
    "\n",
    "lm_model.fit(X_train, y_train)\n",
    "\n",
    "print(lm_model.score(X_test, y_test))"
   ]
  },
  {
   "cell_type": "code",
   "execution_count": 47,
   "id": "3ff284b0",
   "metadata": {},
   "outputs": [
    {
     "name": "stdout",
     "output_type": "stream",
     "text": [
      "0.3180133213884575\n"
     ]
    }
   ],
   "source": [
    "# creating a model for predicting price using: accommodates,bedrooms,beds,bathrooms,guests_included\n",
    "X2 = df_clean[['accommodates', 'bedrooms', 'beds', 'bathrooms', 'guests_included']].values\n",
    "y2 = df_for_modeling[['price']].values\n",
    "\n",
    "X2_train, X2_test, y2_train, y2_test = train_test_split(X2, y2, test_size=0.3, random_state=42)\n",
    "lm_model2 = LinearRegression(normalize=True)\n",
    "\n",
    "lm_model2.fit(X2_train, y2_train)\n",
    "\n",
    "print(lm_model2.score(X2_test, y2_test))"
   ]
  },
  {
   "cell_type": "code",
   "execution_count": null,
   "id": "8a0df89c",
   "metadata": {},
   "outputs": [],
   "source": []
  }
 ],
 "metadata": {
  "kernelspec": {
   "display_name": "Python 3",
   "language": "python",
   "name": "python3"
  },
  "language_info": {
   "codemirror_mode": {
    "name": "ipython",
    "version": 3
   },
   "file_extension": ".py",
   "mimetype": "text/x-python",
   "name": "python",
   "nbconvert_exporter": "python",
   "pygments_lexer": "ipython3",
   "version": "3.8.8"
  }
 },
 "nbformat": 4,
 "nbformat_minor": 5
}
